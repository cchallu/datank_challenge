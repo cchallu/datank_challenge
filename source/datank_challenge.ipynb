{
 "cells": [
  {
   "cell_type": "code",
   "execution_count": null,
   "metadata": {
    "collapsed": true
   },
   "outputs": [],
   "source": [
    "import numpy as np\n",
    "import pandas as pd\n",
    "from ggplot import *\n",
    "import matplotlib  \n",
    "import matplotlib.pyplot as plt\n",
    "from matplotlib import rcParams\n",
    "import seaborn as sns"
   ]
  },
  {
   "cell_type": "code",
   "execution_count": null,
   "metadata": {
    "collapsed": false
   },
   "outputs": [],
   "source": [
    "#data = pd.read_csv('yellow_tripdata_2016-01.csv')\n",
    "data = pd.read_csv('../data/sample.csv')"
   ]
  },
  {
   "cell_type": "code",
   "execution_count": null,
   "metadata": {
    "collapsed": false
   },
   "outputs": [],
   "source": [
    "data.head()"
   ]
  },
  {
   "cell_type": "code",
   "execution_count": null,
   "metadata": {
    "collapsed": false
   },
   "outputs": [],
   "source": [
    "data.dtypes"
   ]
  },
  {
   "cell_type": "code",
   "execution_count": null,
   "metadata": {
    "collapsed": false
   },
   "outputs": [],
   "source": [
    "data.isnull().sum(axis=0)"
   ]
  },
  {
   "cell_type": "code",
   "execution_count": null,
   "metadata": {
    "collapsed": false
   },
   "outputs": [],
   "source": [
    "data[\"pickup_day\"] = pd.to_numeric(data[\"tpep_pickup_datetime\"].str.slice(8, 10))\n",
    "data[\"pickup_hour\"] = pd.to_numeric(data[\"tpep_pickup_datetime\"].str.slice(11, 13))\n",
    "data[\"pick_format\"] = pd.to_datetime(data[\"tpep_pickup_datetime\"])\n",
    "data[\"dropoff_format\"] = pd.to_datetime(data[\"tpep_dropoff_datetime\"])\n",
    "data[\"trip_time\"] = (data.dropoff_format-data.pick_format).astype('timedelta64[s]')/3600\n",
    "data['average_speed'] = data['trip_distance']/data['trip_time']\n",
    "data['cost_per_mile'] = data['fare_amount']/data['trip_distance']\n",
    "data['tip_percentage'] = 100*data['tip_amount'] / data['fare_amount']\n",
    "data.loc[data['pickup_day'] % 7 == 1, 'week_day'] = 'Fri'\n",
    "data.loc[data['pickup_day'] % 7 == 2, 'week_day'] = 'Sat'\n",
    "data.loc[data['pickup_day'] % 7 == 3, 'week_day'] = 'Sun'\n",
    "data.loc[data['pickup_day'] % 7 == 4, 'week_day'] = 'Mon'\n",
    "data.loc[data['pickup_day'] % 7 == 5, 'week_day'] = 'Tue'\n",
    "data.loc[data['pickup_day'] % 7 == 6, 'week_day'] = 'Wed'\n",
    "data.loc[data['pickup_day'] % 7 == 0, 'week_day'] = 'Thu'"
   ]
  },
  {
   "cell_type": "code",
   "execution_count": null,
   "metadata": {
    "collapsed": false
   },
   "outputs": [],
   "source": [
    "replacements = {\n",
    "   'payment_type': {\n",
    "      1: 'Credit Card',\n",
    "      2: 'Cash',\n",
    "      3: 'No charge',\n",
    "      4: 'Dispute'},\n",
    "    'VendorID': {\n",
    "      1: 'Creative Mobile Technologies',\n",
    "      2: 'VeriFone Inc.'},\n",
    "    'RatecodeID': {\n",
    "      1: 'Standard rate',\n",
    "      2: 'JFK',\n",
    "      3: 'Newark',\n",
    "      4: 'Nassau or Westchester',\n",
    "      5: 'Negotiated fare',\n",
    "      6: 'Group ride',\n",
    "      99: 'NA'}\n",
    "}\n",
    "\n",
    "data.replace(replacements, inplace=True)"
   ]
  },
  {
   "cell_type": "code",
   "execution_count": null,
   "metadata": {
    "collapsed": true
   },
   "outputs": [],
   "source": [
    "data_clean = data.loc[(data['trip_distance'] > 0) & (data['trip_distance'] <= 15.6)]\n",
    "data_clean = data_clean.loc[(data_clean['trip_time'] > 0) & (data_clean['trip_time'] <= 0.9)]\n",
    "data_clean = data_clean.loc[(data_clean['total_amount'] >= 0) & (data_clean['total_amount'] <= 70)]\n",
    "data_clean = data_clean.loc[(data_clean['fare_amount'] >= 0) & (data_clean['fare_amount'] <= 52)]\n",
    "data_clean = data_clean.loc[(data_clean['tip_amount'] >= 0) & (data_clean['tip_amount'] <= 11.67)]\n",
    "data_clean = data_clean.loc[(data_clean['pickup_longitude'] >= -75.0) & (data_clean['pickup_longitude'] < -72)]\n",
    "data_clean = data_clean.loc[(data_clean['pickup_latitude'] >= 39.0) & (data_clean['pickup_latitude'] <= 43.0)]\n",
    "data_clean = data_clean.loc[(data_clean['average_speed'] > 0) & (data_clean['average_speed'] <= 100.0)]\n",
    "data_clean = data_clean.loc[(data_clean['cost_per_mile'] > 0) & (data_clean['cost_per_mile'] <= 15.0)]"
   ]
  },
  {
   "cell_type": "code",
   "execution_count": null,
   "metadata": {
    "collapsed": false
   },
   "outputs": [],
   "source": [
    "data_clean.describe(percentiles=[.01, .25, .5, .75, .99])"
   ]
  },
  {
   "cell_type": "code",
   "execution_count": null,
   "metadata": {
    "collapsed": false
   },
   "outputs": [],
   "source": [
    "corrmat = data_clean[['trip_distance','trip_time','total_amount','cost_per_mile', 'average_speed']].corr()\n",
    "sns.heatmap(corrmat, annot=True, square = True)\n",
    "plt.show()"
   ]
  },
  {
   "cell_type": "markdown",
   "metadata": {},
   "source": [
    "### GEDA Univariado"
   ]
  },
  {
   "cell_type": "code",
   "execution_count": null,
   "metadata": {
    "collapsed": false
   },
   "outputs": [],
   "source": [
    "ggplot(aes(x='VendorID'), data=data_clean) + geom_bar() + theme_bw()"
   ]
  },
  {
   "cell_type": "code",
   "execution_count": null,
   "metadata": {
    "collapsed": false
   },
   "outputs": [],
   "source": [
    "ggplot(aes(x='passenger_count'), data=data_clean) + geom_bar() + theme_bw()"
   ]
  },
  {
   "cell_type": "code",
   "execution_count": null,
   "metadata": {
    "collapsed": false
   },
   "outputs": [],
   "source": [
    "ggplot(aes(x='pickup_hour'), data=data_clean) + geom_bar() + theme_bw()"
   ]
  },
  {
   "cell_type": "code",
   "execution_count": null,
   "metadata": {
    "collapsed": false
   },
   "outputs": [],
   "source": [
    "ggplot(aes(x='week_day'), data=data_clean) + geom_bar() + theme_bw()"
   ]
  },
  {
   "cell_type": "code",
   "execution_count": null,
   "metadata": {
    "collapsed": false
   },
   "outputs": [],
   "source": [
    "ggplot(aes(x='RatecodeID'), data=data_clean) + geom_bar() + theme_bw()"
   ]
  },
  {
   "cell_type": "code",
   "execution_count": null,
   "metadata": {
    "collapsed": false
   },
   "outputs": [],
   "source": [
    "ggplot(aes(x='payment_type'), data=data_clean) + geom_bar() + theme_bw()"
   ]
  },
  {
   "cell_type": "code",
   "execution_count": null,
   "metadata": {
    "collapsed": false
   },
   "outputs": [],
   "source": [
    "ggplot(aes(x='trip_distance'), data=data_clean) + geom_histogram(binwidth=1) + theme_bw()"
   ]
  },
  {
   "cell_type": "code",
   "execution_count": null,
   "metadata": {
    "collapsed": false
   },
   "outputs": [],
   "source": [
    "ggplot(aes(x='trip_time'), data=data_clean) + geom_histogram(binwidth=1.0/(0.9*60.0)) + theme_bw()"
   ]
  },
  {
   "cell_type": "code",
   "execution_count": null,
   "metadata": {
    "collapsed": false
   },
   "outputs": [],
   "source": [
    "ggplot(aes(x='total_amount'), data=data_clean) + geom_histogram(binwidth=1) + theme_bw()"
   ]
  },
  {
   "cell_type": "code",
   "execution_count": null,
   "metadata": {
    "collapsed": false
   },
   "outputs": [],
   "source": [
    "ggplot(aes(x='fare_amount'), data=data_clean) + geom_histogram(binwidth=1) + theme_bw()"
   ]
  },
  {
   "cell_type": "code",
   "execution_count": null,
   "metadata": {
    "collapsed": false
   },
   "outputs": [],
   "source": [
    "ggplot(aes(x='tip_amount'), data=data_clean) + geom_histogram(binwidth=0.5) + theme_bw()"
   ]
  },
  {
   "cell_type": "code",
   "execution_count": null,
   "metadata": {
    "collapsed": false
   },
   "outputs": [],
   "source": [
    "ggplot(aes(x='cost_per_mile'), data=data_clean) + geom_histogram(binwidth=0.5) + theme_bw()"
   ]
  },
  {
   "cell_type": "code",
   "execution_count": null,
   "metadata": {
    "collapsed": false
   },
   "outputs": [],
   "source": [
    "ggplot(aes(x='average_speed'), data=data_clean) + geom_histogram(binwidth=1) + theme_bw()"
   ]
  },
  {
   "cell_type": "code",
   "execution_count": null,
   "metadata": {
    "collapsed": false
   },
   "outputs": [],
   "source": [
    "ggplot(aes(x='tip_percentage'), data=data_clean.loc[(data_clean['tip_percentage'] < 100) & (data_clean['payment_type'] == 'Credit Card')]) + geom_histogram(binwidth=1) + theme_bw()"
   ]
  },
  {
   "cell_type": "markdown",
   "metadata": {},
   "source": [
    "### GEDA Bivariado"
   ]
  },
  {
   "cell_type": "code",
   "execution_count": null,
   "metadata": {
    "collapsed": false
   },
   "outputs": [],
   "source": [
    "ggplot(aes(x ='trip_distance', y = 'trip_time'), data = data_clean) + geom_point() + theme_bw()"
   ]
  },
  {
   "cell_type": "code",
   "execution_count": null,
   "metadata": {
    "collapsed": false
   },
   "outputs": [],
   "source": [
    "ggplot(aes(x ='trip_time', y = 'fare_amount'), data = data_clean) + geom_point() + theme_bw()"
   ]
  },
  {
   "cell_type": "code",
   "execution_count": null,
   "metadata": {
    "collapsed": false
   },
   "outputs": [],
   "source": [
    "ggplot(aes(x ='trip_distance', y = 'fare_amount'), data =data_clean) + geom_point() + theme_bw()"
   ]
  },
  {
   "cell_type": "code",
   "execution_count": null,
   "metadata": {
    "collapsed": false
   },
   "outputs": [],
   "source": [
    "ggplot(aes(x ='average_speed', y = 'fare_amount'), data =data_clean) + geom_point() + theme_bw()"
   ]
  },
  {
   "cell_type": "code",
   "execution_count": null,
   "metadata": {
    "collapsed": false
   },
   "outputs": [],
   "source": [
    "ggplot(aes(x ='fare_amount', y = 'tip_amount'), data =data_clean.loc[data_clean['payment_type'] == 'Credit Card']) + geom_point() + theme_bw()"
   ]
  },
  {
   "cell_type": "code",
   "execution_count": null,
   "metadata": {
    "collapsed": false
   },
   "outputs": [],
   "source": [
    "ggplot(aes(x ='fare_amount', y = 'total_amount'), data =data_clean) + geom_point() + theme_bw()"
   ]
  },
  {
   "cell_type": "code",
   "execution_count": null,
   "metadata": {
    "collapsed": false
   },
   "outputs": [],
   "source": [
    "ggplot(aes(x ='trip_distance', y = 'tip_amount'), data =data_clean) + geom_point() + theme_bw()"
   ]
  },
  {
   "cell_type": "code",
   "execution_count": null,
   "metadata": {
    "collapsed": false
   },
   "outputs": [],
   "source": [
    "ggplot(aes(x ='average_speed', y = 'tip_amount'), data =data_clean) + geom_point() + theme_bw()"
   ]
  },
  {
   "cell_type": "code",
   "execution_count": null,
   "metadata": {
    "collapsed": false
   },
   "outputs": [],
   "source": [
    "ggplot(aes(x ='trip_distance', y = 'average_speed'), data =data_clean) + geom_point() + theme_bw()"
   ]
  },
  {
   "cell_type": "code",
   "execution_count": null,
   "metadata": {
    "collapsed": false
   },
   "outputs": [],
   "source": [
    "ggplot(aes(x ='average_speed', y = 'cost_per_mile'), data =data_clean) + geom_point() + theme_bw()"
   ]
  },
  {
   "cell_type": "code",
   "execution_count": null,
   "metadata": {
    "collapsed": false
   },
   "outputs": [],
   "source": [
    "ggplot(aes(x ='pickup_latitude', y = 'pickup_longitude'), data =data_clean) + geom_point() + theme_bw()"
   ]
  },
  {
   "cell_type": "code",
   "execution_count": null,
   "metadata": {
    "collapsed": false
   },
   "outputs": [],
   "source": [
    "ggplot(aes(x ='payment_type', y = 'total_amount'), data =data_clean) + geom_boxplot() + theme_bw()"
   ]
  },
  {
   "cell_type": "code",
   "execution_count": null,
   "metadata": {
    "collapsed": false
   },
   "outputs": [],
   "source": [
    "ggplot(aes(x ='payment_type', y = 'fare_amount'), data =data_clean) + geom_boxplot() + theme_bw()"
   ]
  },
  {
   "cell_type": "code",
   "execution_count": null,
   "metadata": {
    "collapsed": false
   },
   "outputs": [],
   "source": [
    "ggplot(aes(x ='VendorID', y = 'fare_amount'), data =data_clean) + geom_boxplot() + theme_bw()"
   ]
  },
  {
   "cell_type": "code",
   "execution_count": null,
   "metadata": {
    "collapsed": false
   },
   "outputs": [],
   "source": [
    "ggplot(aes(x ='VendorID', y = 'trip_distance'), data =data_clean) + geom_boxplot() + theme_bw()"
   ]
  },
  {
   "cell_type": "code",
   "execution_count": null,
   "metadata": {
    "collapsed": false
   },
   "outputs": [],
   "source": [
    "ggplot(aes(x ='passenger_count', y = 'trip_distance'), data =data_clean) + geom_boxplot() + theme_bw()"
   ]
  },
  {
   "cell_type": "code",
   "execution_count": null,
   "metadata": {
    "collapsed": false
   },
   "outputs": [],
   "source": [
    "ggplot(aes(x ='passenger_count', y = 'total_amount'), data =data_clean) + geom_boxplot() + theme_bw()"
   ]
  },
  {
   "cell_type": "code",
   "execution_count": null,
   "metadata": {
    "collapsed": false
   },
   "outputs": [],
   "source": [
    "ggplot(aes(x ='passenger_count', y = 'fare_amount'), data =data_clean) + geom_boxplot() + theme_bw()"
   ]
  },
  {
   "cell_type": "code",
   "execution_count": null,
   "metadata": {
    "collapsed": false
   },
   "outputs": [],
   "source": [
    "ggplot(aes(x ='RatecodeID', y = 'total_amount'), data =data_clean) + geom_boxplot() + theme_bw()"
   ]
  },
  {
   "cell_type": "code",
   "execution_count": null,
   "metadata": {
    "collapsed": false
   },
   "outputs": [],
   "source": [
    "ggplot(aes(x ='RatecodeID', y = 'trip_distance'), data =data_clean) + geom_boxplot() + theme_bw()"
   ]
  },
  {
   "cell_type": "markdown",
   "metadata": {},
   "source": [
    "### Otros analisis"
   ]
  },
  {
   "cell_type": "code",
   "execution_count": null,
   "metadata": {
    "collapsed": false
   },
   "outputs": [],
   "source": [
    "means = data_clean[['pickup_hour','average_speed']].groupby(['pickup_hour']).mean().reset_index()\n",
    "ggplot(aes(x ='pickup_hour', weight = 'average_speed'), data = means) + geom_bar() + theme_bw()"
   ]
  },
  {
   "cell_type": "code",
   "execution_count": null,
   "metadata": {
    "collapsed": false
   },
   "outputs": [],
   "source": [
    "means = data_clean[['average_speed','week_day']].groupby(['week_day']).mean().reset_index()\n",
    "ggplot(aes(x ='week_day', weight = 'average_speed'), data = means) + geom_bar() + theme_bw()"
   ]
  },
  {
   "cell_type": "code",
   "execution_count": null,
   "metadata": {
    "collapsed": false
   },
   "outputs": [],
   "source": [
    "means = data_clean[['pickup_hour','week_day','average_speed']].groupby(['pickup_hour','week_day']).mean().reset_index()\n",
    "ggplot(aes(x ='pickup_hour', weight = 'average_speed'), data = means) + geom_bar() + theme_bw() + facet_grid('week_day')"
   ]
  },
  {
   "cell_type": "code",
   "execution_count": null,
   "metadata": {
    "collapsed": false
   },
   "outputs": [],
   "source": [
    "means = data_clean[['pickup_hour','cost_per_mile']].groupby(['pickup_hour']).mean().reset_index()\n",
    "ggplot(aes(x ='pickup_hour', weight = 'cost_per_mile'), data = means) + geom_bar() + theme_bw()"
   ]
  },
  {
   "cell_type": "code",
   "execution_count": null,
   "metadata": {
    "collapsed": false
   },
   "outputs": [],
   "source": [
    "means = data_clean[['cost_per_mile','week_day']].groupby(['week_day']).mean().reset_index()\n",
    "ggplot(aes(x ='week_day', weight = 'cost_per_mile'), data = means) + geom_bar() + theme_bw()"
   ]
  },
  {
   "cell_type": "code",
   "execution_count": null,
   "metadata": {
    "collapsed": false
   },
   "outputs": [],
   "source": [
    "means = data_clean[['pickup_hour','week_day','cost_per_mile']].groupby(['pickup_hour','week_day']).mean().reset_index()\n",
    "ggplot(aes(x ='pickup_hour', weight = 'cost_per_mile'), data = means) + geom_bar() + theme_bw() + facet_grid('week_day')"
   ]
  },
  {
   "cell_type": "markdown",
   "metadata": {},
   "source": [
    "### Espacial"
   ]
  },
  {
   "cell_type": "code",
   "execution_count": null,
   "metadata": {
    "collapsed": false
   },
   "outputs": [],
   "source": [
    "%matplotlib inline \n",
    "\n",
    "pd.options.display.mpl_style = 'default'\n",
    "new_style = {'grid': False}\n",
    "matplotlib.rc('axes', **new_style)\n",
    "rcParams['figure.figsize'] = (5, 5)\n",
    "rcParams['figure.dpi'] = 120\n",
    "\n",
    "P=data_clean.plot(kind='scatter', x='pickup_longitude', y='pickup_latitude',color='white', xlim=(-74.06,-73.77),ylim=(40.61, 40.91),s=.02,alpha=.6)\n",
    "P.set_axis_bgcolor('black')"
   ]
  },
  {
   "cell_type": "code",
   "execution_count": null,
   "metadata": {
    "collapsed": false
   },
   "outputs": [],
   "source": [
    "%matplotlib inline \n",
    "\n",
    "pd.options.display.mpl_style = 'default'\n",
    "new_style = {'grid': False}\n",
    "matplotlib.rc('axes', **new_style)\n",
    "rcParams['figure.figsize'] = (5, 5)\n",
    "rcParams['figure.dpi'] = 120\n",
    "\n",
    "P=data_clean.plot(kind='scatter', x='pickup_longitude', y='pickup_latitude',c='trip_distance', cmap='autumn', xlim=(-74.06,-73.77),ylim=(40.61, 40.91),s=.02,alpha=.6)\n",
    "P.set_axis_bgcolor('black')"
   ]
  },
  {
   "cell_type": "code",
   "execution_count": null,
   "metadata": {
    "collapsed": false
   },
   "outputs": [],
   "source": [
    "%matplotlib inline \n",
    "\n",
    "pd.options.display.mpl_style = 'default'\n",
    "new_style = {'grid': False}\n",
    "matplotlib.rc('axes', **new_style)\n",
    "rcParams['figure.figsize'] = (5, 5)\n",
    "rcParams['figure.dpi'] = 120\n",
    "\n",
    "P=data_clean.loc[(data_clean['average_speed'] > 0) & (data_clean['average_speed'] <= 30.0)].plot(kind='scatter', x='pickup_longitude', y='pickup_latitude',c='average_speed', cmap='autumn', xlim=(-74.06,-73.77),ylim=(40.61, 40.91),s=.02,alpha=.6)\n",
    "P.set_axis_bgcolor('black')"
   ]
  },
  {
   "cell_type": "code",
   "execution_count": null,
   "metadata": {
    "collapsed": false
   },
   "outputs": [],
   "source": [
    "%matplotlib inline \n",
    "\n",
    "pd.options.display.mpl_style = 'default'\n",
    "new_style = {'grid': False}\n",
    "matplotlib.rc('axes', **new_style)\n",
    "rcParams['figure.figsize'] = (5, 5)\n",
    "rcParams['figure.dpi'] = 120\n",
    "\n",
    "P=data_clean.plot(kind='scatter', x='pickup_longitude', y='pickup_latitude',c='cost_per_mile', cmap='autumn', xlim=(-74.06,-73.77),ylim=(40.61, 40.91),s=.02,alpha=.6)\n",
    "P.set_axis_bgcolor('black')"
   ]
  },
  {
   "cell_type": "code",
   "execution_count": null,
   "metadata": {
    "collapsed": true
   },
   "outputs": [],
   "source": []
  },
  {
   "cell_type": "markdown",
   "metadata": {},
   "source": [
    "### Prediccion de tips"
   ]
  },
  {
   "cell_type": "code",
   "execution_count": null,
   "metadata": {
    "collapsed": false
   },
   "outputs": [],
   "source": [
    "# Paquetes para pipeline\n",
    "from sklearn.pipeline import Pipeline\n",
    "from sklearn.model_selection import GridSearchCV\n",
    "from sklearn.ensemble import RandomForestClassifier\n",
    "from sklearn.model_selection import train_test_split\n",
    "from sklearn import linear_model\n",
    "\n",
    "# Paquetes para curva ROC y precision_recall\n",
    "from sklearn.metrics import roc_curve\n",
    "from sklearn.metrics import precision_recall_curve\n",
    "from sklearn.metrics import accuracy_score\n",
    "\n",
    "# Paquete para AUC\n",
    "from sklearn.metrics import roc_auc_score"
   ]
  },
  {
   "cell_type": "code",
   "execution_count": null,
   "metadata": {
    "collapsed": false
   },
   "outputs": [],
   "source": [
    "data_tips = data_clean.loc[data_clean['payment_type'] == 'Credit Card']\n",
    "\n",
    "data_tips['high_tip'] =(data_tips['tip_percentage'] > 22.08).astype(int)\n",
    "\n",
    "columns = ['tpep_pickup_datetime', 'tpep_dropoff_datetime', 'VendorID', 'payment_type', 'store_and_fwd_flag', 'fare_amount', 'tip_amount', 'tip_percentage', 'total_amount', 'cost_per_mile', 'mta_tax', 'improvement_surcharge', 'pick_format', 'dropoff_format', 'Unnamed: 0','dropoff_longitude','dropoff_latitude', 'trip_time','tolls_amount','pickup_day']\n",
    "data_tips.drop(columns, inplace=True, axis=1)\n",
    "data_tips.head()"
   ]
  },
  {
   "cell_type": "code",
   "execution_count": null,
   "metadata": {
    "collapsed": false
   },
   "outputs": [],
   "source": [
    "data_tips = data_tips.round({'pickup_longitude': 2, 'pickup_latitude': 2})\n",
    "\n",
    "data_tips['pickup_hour'] = data_tips['pickup_hour'].astype('category')\n",
    "data_tips['pickup_latitude'] = data_tips['pickup_latitude'].astype('category')\n",
    "data_tips['pickup_longitude'] = data_tips['pickup_longitude'].astype('category')\n",
    "\n",
    "columns = ['RatecodeID','week_day', 'pickup_hour','pickup_longitude', 'pickup_latitude']\n",
    "df1 = pd.get_dummies(data_tips.loc[:,columns])\n",
    "df2 = data_tips.loc[:,set(data_tips.columns) - set(columns)]\n",
    "data_tips = pd.concat([df1, df2], axis=1)"
   ]
  },
  {
   "cell_type": "code",
   "execution_count": null,
   "metadata": {
    "collapsed": false
   },
   "outputs": [],
   "source": [
    "data_tips['trip_distance'] = (data_tips['trip_distance']-data_tips['trip_distance'].mean())/data_tips['trip_distance'].std()"
   ]
  },
  {
   "cell_type": "code",
   "execution_count": null,
   "metadata": {
    "collapsed": false
   },
   "outputs": [],
   "source": [
    "features = data_tips.drop('high_tip', axis=1).columns\n",
    "\n",
    "X_train = np.array(data_tips.loc[data_clean['pickup_day']<=22].drop('high_tip', axis=1))\n",
    "y_train = np.array(data_tips['high_tip'].loc[data_clean['pickup_day']<=22])\n",
    "X_test = np.array(data_tips.loc[data_clean['pickup_day']>22].drop('high_tip', axis=1))\n",
    "y_test = np.array(data_tips['high_tip'].loc[data_clean['pickup_day']>22])\n",
    "#X_train, X_test, y_train, y_test = train_test_split(X,y, random_state=120652, test_size=0.3)"
   ]
  },
  {
   "cell_type": "code",
   "execution_count": null,
   "metadata": {
    "collapsed": false
   },
   "outputs": [],
   "source": [
    "rf = RandomForestClassifier(n_estimators = 10, min_samples_leaf=50, random_state=120652)\n",
    "rf.fit(X_train, y_train)"
   ]
  },
  {
   "cell_type": "code",
   "execution_count": null,
   "metadata": {
    "collapsed": false
   },
   "outputs": [],
   "source": [
    "predicted = rf.predict(X_test)\n",
    "accuracy = accuracy_score(y_test, predicted)\n",
    "print(accuracy)"
   ]
  },
  {
   "cell_type": "code",
   "execution_count": null,
   "metadata": {
    "collapsed": true
   },
   "outputs": [],
   "source": [
    "# Parámetros a utilizar con RandomForest\n",
    "params_rf = dict(RF__n_estimators= [10,20,50],\n",
    "                       RF__min_samples_leaf=[10,30,50])\n",
    "params_lr = dict(LR__C= [0.0001, 0.001, 0.01])"
   ]
  },
  {
   "cell_type": "code",
   "execution_count": null,
   "metadata": {
    "collapsed": true
   },
   "outputs": [],
   "source": [
    "# La función de magic_loop recibe como parámetros los pipes con cada modelo que se probará, los parámetros para los modelos y los datos\n",
    "def magic_loop(models_to_run, clfs, grids, X, y):\n",
    "    results_df = pd.DataFrame()\n",
    "    for n in range(1, 2):\n",
    "        # For para iterar a lo largo de los pipes que haya recibido\n",
    "        for index, clf in enumerate([clfs[x] for x in models_to_run]):\n",
    "            # Grid search para encontrar los parámetros óptimos para cada modelo\n",
    "            pipe = Pipeline([(models_to_run[index], clf)])\n",
    "            grid = GridSearchCV(pipe, param_grid = grids[index], cv=5, verbose=1, scoring='f1', n_jobs=-1)\n",
    "            grid.fit(X,y)\n",
    "            # Se agregan los resultados de cada grid search a un data frame\n",
    "            results_df=results_df.append(grid.grid_scores_)\n",
    "        # Se ordenan los resultados de acuerdo al mean validation score    \n",
    "        results_df=results_df.sort_values(by=['mean_validation_score'], ascending=False)\n",
    "    return results_df"
   ]
  },
  {
   "cell_type": "code",
   "execution_count": null,
   "metadata": {
    "collapsed": false
   },
   "outputs": [],
   "source": [
    "models_to_run = ['LR','RF']\n",
    "classifiers = {'LR':linear_model.LogisticRegression(),\n",
    "              'RF':RandomForestClassifier()}\n",
    "\n",
    "grids = [params_lr, params_rf]\n",
    "m_loop = magic_loop(models_to_run, classifiers, grids, X_train, y_train)"
   ]
  },
  {
   "cell_type": "code",
   "execution_count": null,
   "metadata": {
    "collapsed": false
   },
   "outputs": [],
   "source": [
    "m_loop"
   ]
  },
  {
   "cell_type": "code",
   "execution_count": null,
   "metadata": {
    "collapsed": false
   },
   "outputs": [],
   "source": [
    "best_params=m_loop.iloc[0,0]\n",
    "best_params"
   ]
  },
  {
   "cell_type": "code",
   "execution_count": null,
   "metadata": {
    "collapsed": false
   },
   "outputs": [],
   "source": [
    "best_model = RandomForestClassifier(n_estimators=best_params['RF__n_estimators'] , \n",
    "                                   min_samples_leaf=best_params['RF__min_samples_leaf'])\n",
    "\n",
    "best_model.fit(X_train, y_train)"
   ]
  },
  {
   "cell_type": "code",
   "execution_count": null,
   "metadata": {
    "collapsed": false
   },
   "outputs": [],
   "source": [
    "preds_test = best_model.predict_proba(X_test)[:,1]\n",
    "roc = roc_curve(y_test, preds_test,pos_label=1)\n",
    "\n",
    "plt.plot(roc[0],roc[1], label=\"ROC test\")\n",
    "plt.title('ROC curve')\n",
    "plt.plot( [0,1],[0,1],label=\"clasificador aleatorio\")\n",
    "plt.legend(loc=\"lower right\")\n",
    "plt.show()"
   ]
  },
  {
   "cell_type": "code",
   "execution_count": null,
   "metadata": {
    "collapsed": false
   },
   "outputs": [],
   "source": [
    "predicted = best_model.predict(X_test)\n",
    "accuracy = accuracy_score(y_test, predicted)\n",
    "print(accuracy)"
   ]
  },
  {
   "cell_type": "code",
   "execution_count": null,
   "metadata": {
    "collapsed": false
   },
   "outputs": [],
   "source": [
    "roc_auc_score(y_test, preds_test)"
   ]
  },
  {
   "cell_type": "code",
   "execution_count": null,
   "metadata": {
    "collapsed": false
   },
   "outputs": [],
   "source": [
    "list(zip(features, best_model.feature_importances_))"
   ]
  },
  {
   "cell_type": "code",
   "execution_count": null,
   "metadata": {
    "collapsed": true
   },
   "outputs": [],
   "source": [
    "best_lr = linear_model.LogisticRegression(C=0.001)\n",
    "\n",
    "best_lr.fit(X_train, y_train)"
   ]
  },
  {
   "cell_type": "code",
   "execution_count": null,
   "metadata": {
    "collapsed": false
   },
   "outputs": [],
   "source": [
    "coefs = best_lr.coef_\n",
    "features = np.asarray(features)\n",
    "features.shape = ((118,1))\n",
    "coefs.shape = ((118,1))\n",
    "coefs = np.hstack((features,coefs))\n",
    "coefs =pd.DataFrame(data=coefs,columns = ['feature','coefficient'])\n",
    "pd.options.display.max_rows = 999\n",
    "coefs"
   ]
  }
 ],
 "metadata": {
  "kernelspec": {
   "display_name": "Python 3",
   "language": "python",
   "name": "python3"
  },
  "language_info": {
   "codemirror_mode": {
    "name": "ipython",
    "version": 3
   },
   "file_extension": ".py",
   "mimetype": "text/x-python",
   "name": "python",
   "nbconvert_exporter": "python",
   "pygments_lexer": "ipython3",
   "version": "3.4.5"
  }
 },
 "nbformat": 4,
 "nbformat_minor": 2
}
