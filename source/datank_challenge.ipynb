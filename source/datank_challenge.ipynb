{
 "cells": [
  {
   "cell_type": "code",
   "execution_count": 2,
   "metadata": {
    "collapsed": true
   },
   "outputs": [],
   "source": [
    "import numpy\n",
    "import pandas as pd\n",
    "from ggplot import *"
   ]
  },
  {
   "cell_type": "code",
   "execution_count": 6,
   "metadata": {
    "collapsed": false
   },
   "outputs": [],
   "source": [
    "#data = pd.read_csv('yellow_tripdata_2016-01.csv')\n",
    "data = pd.read_csv('Data/sample.csv')"
   ]
  },
  {
   "cell_type": "code",
   "execution_count": null,
   "metadata": {
    "collapsed": false
   },
   "outputs": [],
   "source": [
    "data.head()"
   ]
  },
  {
   "cell_type": "code",
   "execution_count": null,
   "metadata": {
    "collapsed": false
   },
   "outputs": [],
   "source": [
    "data.dtypes"
   ]
  },
  {
   "cell_type": "code",
   "execution_count": null,
   "metadata": {
    "collapsed": false
   },
   "outputs": [],
   "source": [
    "data.isnull().sum(axis=0)"
   ]
  },
  {
   "cell_type": "code",
   "execution_count": null,
   "metadata": {
    "collapsed": false
   },
   "outputs": [],
   "source": [
    "data[\"pickup_day\"] = pd.to_numeric(data[\"tpep_pickup_datetime\"].str.slice(8, 10))\n",
    "data[\"pickup_hour\"] = pd.to_numeric(data[\"tpep_pickup_datetime\"].str.slice(11, 13))\n",
    "data[\"pick_format\"] = pd.to_datetime(data[\"tpep_pickup_datetime\"])\n",
    "data[\"dropoff_format\"] = pd.to_datetime(data[\"tpep_dropoff_datetime\"])\n",
    "data[\"trip_time\"] = (data.dropoff_format-data.pick_format).astype('timedelta64[s]')/3600\n",
    "data['average_speed'] = data['trip_distance']/data['trip_time']\n",
    "data.loc[data['pickup_day'] % 7 == 1, 'week_day'] = 'Fri'\n",
    "data.loc[data['pickup_day'] % 7 == 2, 'week_day'] = 'Sat'\n",
    "data.loc[data['pickup_day'] % 7 == 3, 'week_day'] = 'Sun'\n",
    "data.loc[data['pickup_day'] % 7 == 4, 'week_day'] = 'Mon'\n",
    "data.loc[data['pickup_day'] % 7 == 5, 'week_day'] = 'Tue'\n",
    "data.loc[data['pickup_day'] % 7 == 6, 'week_day'] = 'Wed'\n",
    "data.loc[data['pickup_day'] % 7 == 0, 'week_day'] = 'Thu'"
   ]
  },
  {
   "cell_type": "code",
   "execution_count": null,
   "metadata": {
    "collapsed": false
   },
   "outputs": [],
   "source": [
    "replacements = {\n",
    "   'payment_type': {\n",
    "      1: 'Credit Card',\n",
    "      2: 'Cash',\n",
    "      3: 'No charge',\n",
    "      4: 'Dispute'},\n",
    "    'VendorID': {\n",
    "      1: 'Creative Mobile Technologies',\n",
    "      2: 'VeriFone Inc.'},\n",
    "    'RatecodeID': {\n",
    "      1: 'Standard rate',\n",
    "      2: 'JFK',\n",
    "      3: 'Newark',\n",
    "      4: 'Nassau or Westchester',\n",
    "      5: 'Negotiated fare',\n",
    "      6: 'Group ride',\n",
    "      99: 'NA'}\n",
    "}\n",
    "\n",
    "data.replace(replacements, inplace=True)"
   ]
  },
  {
   "cell_type": "code",
   "execution_count": null,
   "metadata": {
    "collapsed": false
   },
   "outputs": [],
   "source": [
    "data_clean.head()"
   ]
  },
  {
   "cell_type": "code",
   "execution_count": null,
   "metadata": {
    "collapsed": false
   },
   "outputs": [],
   "source": [
    "data.describe(percentiles=[.01, .25, .5, .75, .99])"
   ]
  },
  {
   "cell_type": "code",
   "execution_count": null,
   "metadata": {
    "collapsed": true
   },
   "outputs": [],
   "source": [
    "data_clean = data.loc[(data['trip_distance'] > 0) & (data['trip_distance'] <= 15.6)]\n",
    "data_clean = data_clean.loc[(data_clean['trip_time'] > 0) & (data_clean['trip_time'] <= 0.9)]\n",
    "data_clean = data_clean.loc[(data_clean['total_amount'] >= 0) & (data_clean['total_amount'] <= 70)]\n",
    "data_clean = data_clean.loc[(data_clean['fare_amount'] >= 0) & (data_clean['fare_amount'] <= 52)]\n",
    "data_clean = data_clean.loc[(data_clean['tip_amount'] >= 0) & (data_clean['tip_amount'] <= 11.67)]\n",
    "data_clean = data_clean.loc[(data_clean['pickup_longitude'] >= -74.0) & (data_clean['pickup_longitude'] < -73.7)]\n",
    "data_clean = data_clean.loc[(data_clean['pickup_latitude'] >= 40.0) & (data_clean['pickup_latitude'] <= 42.0)]\n",
    "#data_clean['pickup_longitude'] = -data_clean['pickup_longitude']\n",
    "data_clean = data_clean.loc[(data_clean['average_speed'] > 0) & (data_clean['average_speed'] <= 100.0)]"
   ]
  },
  {
   "cell_type": "markdown",
   "metadata": {},
   "source": [
    "### GEDA Univariado"
   ]
  },
  {
   "cell_type": "code",
   "execution_count": null,
   "metadata": {
    "collapsed": false
   },
   "outputs": [],
   "source": [
    "ggplot(aes(x='VendorID'), data=data_clean) + geom_bar() + theme_bw()"
   ]
  },
  {
   "cell_type": "code",
   "execution_count": null,
   "metadata": {
    "collapsed": false
   },
   "outputs": [],
   "source": [
    "ggplot(aes(x='passenger_count'), data=data_clean) + geom_bar() + theme_bw()"
   ]
  },
  {
   "cell_type": "code",
   "execution_count": null,
   "metadata": {
    "collapsed": false
   },
   "outputs": [],
   "source": [
    "ggplot(aes(x='pickup_hour'), data=data_clean) + geom_bar() + theme_bw()"
   ]
  },
  {
   "cell_type": "code",
   "execution_count": null,
   "metadata": {
    "collapsed": false
   },
   "outputs": [],
   "source": [
    "ggplot(aes(x='week_day'), data=data_clean) + geom_bar() + theme_bw()"
   ]
  },
  {
   "cell_type": "code",
   "execution_count": null,
   "metadata": {
    "collapsed": false
   },
   "outputs": [],
   "source": [
    "ggplot(aes(x='RatecodeID'), data=data_clean) + geom_bar() + theme_bw()"
   ]
  },
  {
   "cell_type": "code",
   "execution_count": null,
   "metadata": {
    "collapsed": false
   },
   "outputs": [],
   "source": [
    "ggplot(aes(x='payment_type'), data=data_clean) + geom_bar() + theme_bw()"
   ]
  },
  {
   "cell_type": "code",
   "execution_count": null,
   "metadata": {
    "collapsed": false
   },
   "outputs": [],
   "source": [
    "ggplot(aes(x='trip_distance'), data=data_clean) + geom_histogram(binwidth=1) + theme_bw()"
   ]
  },
  {
   "cell_type": "code",
   "execution_count": null,
   "metadata": {
    "collapsed": false
   },
   "outputs": [],
   "source": [
    "ggplot(aes(x='trip_time'), data=data_clean) + geom_histogram(binwidth=1.0/(0.9*60.0)) + theme_bw()"
   ]
  },
  {
   "cell_type": "code",
   "execution_count": null,
   "metadata": {
    "collapsed": false
   },
   "outputs": [],
   "source": [
    "ggplot(aes(x='total_amount'), data=data_clean) + geom_histogram(binwidth=1) + theme_bw()"
   ]
  },
  {
   "cell_type": "code",
   "execution_count": null,
   "metadata": {
    "collapsed": false
   },
   "outputs": [],
   "source": [
    "ggplot(aes(x='fare_amount'), data=data_clean) + geom_histogram(binwidth=1) + theme_bw()"
   ]
  },
  {
   "cell_type": "code",
   "execution_count": null,
   "metadata": {
    "collapsed": false
   },
   "outputs": [],
   "source": [
    "ggplot(aes(x='tip_amount'), data=data_clean) + geom_histogram(binwidth=0.5) + theme_bw()"
   ]
  },
  {
   "cell_type": "markdown",
   "metadata": {},
   "source": [
    "### GEDA Bivariado"
   ]
  },
  {
   "cell_type": "code",
   "execution_count": null,
   "metadata": {
    "collapsed": false
   },
   "outputs": [],
   "source": [
    "ggplot(aes(x ='trip_distance', y = 'trip_time'), data = data_clean) + geom_point() + theme_bw()"
   ]
  },
  {
   "cell_type": "code",
   "execution_count": null,
   "metadata": {
    "collapsed": false
   },
   "outputs": [],
   "source": [
    "ggplot(aes(x ='trip_time', y = 'fare_amount'), data = data_clean) + geom_point() + theme_bw()"
   ]
  },
  {
   "cell_type": "code",
   "execution_count": null,
   "metadata": {
    "collapsed": false
   },
   "outputs": [],
   "source": [
    "ggplot(aes(x ='trip_distance', y = 'fare_amount'), data =data_clean) + geom_point() + theme_bw()"
   ]
  },
  {
   "cell_type": "code",
   "execution_count": null,
   "metadata": {
    "collapsed": false
   },
   "outputs": [],
   "source": [
    "ggplot(aes(x ='average_speed', y = 'fare_amount'), data =data_clean) + geom_point() + theme_bw()"
   ]
  },
  {
   "cell_type": "code",
   "execution_count": null,
   "metadata": {
    "collapsed": false
   },
   "outputs": [],
   "source": [
    "ggplot(aes(x ='fare_amount', y = 'tip_amount'), data =data_clean.loc[data_clean['payment_type'] == 'Credit Card']) + geom_point() + theme_bw()"
   ]
  },
  {
   "cell_type": "code",
   "execution_count": null,
   "metadata": {
    "collapsed": false
   },
   "outputs": [],
   "source": [
    "ggplot(aes(x ='fare_amount', y = 'total_amount'), data =data_clean) + geom_point() + theme_bw()"
   ]
  },
  {
   "cell_type": "code",
   "execution_count": null,
   "metadata": {
    "collapsed": false
   },
   "outputs": [],
   "source": [
    "ggplot(aes(x ='trip_distance', y = 'tip_amount'), data =data_clean) + geom_point() + theme_bw()"
   ]
  },
  {
   "cell_type": "code",
   "execution_count": null,
   "metadata": {
    "collapsed": false
   },
   "outputs": [],
   "source": [
    "ggplot(aes(x ='average_speed', y = 'tip_amount'), data =data_clean) + geom_point() + theme_bw()"
   ]
  },
  {
   "cell_type": "code",
   "execution_count": null,
   "metadata": {
    "collapsed": false
   },
   "outputs": [],
   "source": [
    "ggplot(aes(x ='trip_distance', y = 'average_speed'), data =data_clean) + geom_point() + theme_bw()"
   ]
  },
  {
   "cell_type": "code",
   "execution_count": null,
   "metadata": {
    "collapsed": false
   },
   "outputs": [],
   "source": [
    "ggplot(aes(x ='pickup_latitude', y = 'pickup_longitude'), data =data_clean) + geom_point() + theme_bw()"
   ]
  },
  {
   "cell_type": "code",
   "execution_count": null,
   "metadata": {
    "collapsed": false
   },
   "outputs": [],
   "source": [
    "ggplot(aes(x ='payment_type', y = 'total_amount'), data =data_clean) + geom_boxplot() + theme_bw()"
   ]
  },
  {
   "cell_type": "code",
   "execution_count": null,
   "metadata": {
    "collapsed": false
   },
   "outputs": [],
   "source": [
    "ggplot(aes(x ='payment_type', y = 'fare_amount'), data =data_clean) + geom_boxplot() + theme_bw()"
   ]
  },
  {
   "cell_type": "code",
   "execution_count": null,
   "metadata": {
    "collapsed": false
   },
   "outputs": [],
   "source": [
    "ggplot(aes(x ='VendorID', y = 'fare_amount'), data =data_clean) + geom_boxplot() + theme_bw()"
   ]
  },
  {
   "cell_type": "code",
   "execution_count": null,
   "metadata": {
    "collapsed": false
   },
   "outputs": [],
   "source": [
    "ggplot(aes(x ='VendorID', y = 'trip_distance'), data =data_clean) + geom_boxplot() + theme_bw()"
   ]
  },
  {
   "cell_type": "code",
   "execution_count": null,
   "metadata": {
    "collapsed": false
   },
   "outputs": [],
   "source": [
    "ggplot(aes(x ='passenger_count', y = 'trip_distance'), data =data_clean) + geom_boxplot() + theme_bw()"
   ]
  },
  {
   "cell_type": "code",
   "execution_count": null,
   "metadata": {
    "collapsed": false
   },
   "outputs": [],
   "source": [
    "ggplot(aes(x ='passenger_count', y = 'total_amount'), data =data_clean) + geom_boxplot() + theme_bw()"
   ]
  },
  {
   "cell_type": "code",
   "execution_count": null,
   "metadata": {
    "collapsed": false
   },
   "outputs": [],
   "source": [
    "ggplot(aes(x ='passenger_count', y = 'fare_amount'), data =data_clean) + geom_boxplot() + theme_bw()"
   ]
  },
  {
   "cell_type": "code",
   "execution_count": null,
   "metadata": {
    "collapsed": false
   },
   "outputs": [],
   "source": [
    "ggplot(aes(x ='RatecodeID', y = 'total_amount'), data =data_clean) + geom_boxplot() + theme_bw()"
   ]
  },
  {
   "cell_type": "code",
   "execution_count": null,
   "metadata": {
    "collapsed": false
   },
   "outputs": [],
   "source": [
    "ggplot(aes(x ='RatecodeID', y = 'trip_distance'), data =data_clean) + geom_boxplot() + theme_bw()"
   ]
  },
  {
   "cell_type": "markdown",
   "metadata": {},
   "source": [
    "### Otros analisis"
   ]
  },
  {
   "cell_type": "code",
   "execution_count": null,
   "metadata": {
    "collapsed": false
   },
   "outputs": [],
   "source": [
    "means = data_clean[['pickup_hour','average_speed']].groupby(['pickup_hour']).mean().reset_index()\n",
    "ggplot(aes(x ='pickup_hour', weight = 'average_speed'), data = means) + geom_bar() + theme_bw()"
   ]
  },
  {
   "cell_type": "code",
   "execution_count": null,
   "metadata": {
    "collapsed": false
   },
   "outputs": [],
   "source": [
    "means = data_clean[['average_speed','week_day']].groupby(['week_day']).mean().reset_index()\n",
    "ggplot(aes(x ='week_day', weight = 'average_speed'), data = means) + geom_bar() + theme_bw()"
   ]
  },
  {
   "cell_type": "code",
   "execution_count": null,
   "metadata": {
    "collapsed": false
   },
   "outputs": [],
   "source": [
    "means = data_clean[['pickup_hour','week_day','average_speed']].groupby(['pickup_hour','week_day']).mean().reset_index()\n",
    "ggplot(aes(x ='pickup_hour', weight = 'average_speed'), data = means) + geom_bar() + theme_bw() + facet_grid('week_day')"
   ]
  },
  {
   "cell_type": "code",
   "execution_count": null,
   "metadata": {
    "collapsed": true
   },
   "outputs": [],
   "source": []
  },
  {
   "cell_type": "markdown",
   "metadata": {},
   "source": [
    "### Espacial"
   ]
  },
  {
   "cell_type": "code",
   "execution_count": null,
   "metadata": {
    "collapsed": true
   },
   "outputs": [],
   "source": []
  },
  {
   "cell_type": "code",
   "execution_count": null,
   "metadata": {
    "collapsed": true
   },
   "outputs": [],
   "source": []
  },
  {
   "cell_type": "markdown",
   "metadata": {},
   "source": [
    "### Prediccion de XXX"
   ]
  }
 ],
 "metadata": {
  "kernelspec": {
   "display_name": "Python 3",
   "language": "python",
   "name": "python3"
  },
  "language_info": {
   "codemirror_mode": {
    "name": "ipython",
    "version": 3
   },
   "file_extension": ".py",
   "mimetype": "text/x-python",
   "name": "python",
   "nbconvert_exporter": "python",
   "pygments_lexer": "ipython3",
   "version": "3.4.5"
  }
 },
 "nbformat": 4,
 "nbformat_minor": 2
}
